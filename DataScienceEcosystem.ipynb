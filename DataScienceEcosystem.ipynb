{
 "cells": [
  {
   "cell_type": "markdown",
   "id": "71a288f6-94ef-4560-9f29-74dda846726e",
   "metadata": {},
   "source": [
    "Exercise 1: Create a Jupyter Notebook\n",
    "\n",
    "Create a new Jupyter notebook called DataScienceEcosystem.ipynb"
   ]
  },
  {
   "cell_type": "markdown",
   "id": "9d147bb3-680f-452d-92e7-e1dd1768b0da",
   "metadata": {},
   "source": [
    "Exercise 2: Create markdown cell with title of the notebook\n",
    "# Data Science Tools and Ecosystem\r\n"
   ]
  },
  {
   "cell_type": "markdown",
   "id": "6c1e6c55-1c43-4479-a9b7-94bc9c535565",
   "metadata": {},
   "source": [
    "Exercise 3 Create a markdown cell for an introduction <br> In this notebook, Data Science Tools and Ecosystem are summarized."
   ]
  },
  {
   "cell_type": "markdown",
   "id": "70661221-6a0e-4b6d-ae36-edc5ef0cf779",
   "metadata": {},
   "source": [
    "**Objectives:**\n",
    "- List popular languages for Data Science\n",
    "- List common Libraries used in Data Science\n",
    "- List Data Science Tools\n",
    "- Showcase arithmetic examples\n",
    "- Convert hours to minutes"
   ]
  },
  {
   "cell_type": "markdown",
   "id": "5928fc41-760a-4249-a346-8bc4df5c1d96",
   "metadata": {},
   "source": [
    "Exercise 4 - Create a markdown cell to list data science languages\n",
    "\n",
    "Some of the popular languages that Data Scientists use are:\n",
    "1. Python\n",
    "2. SQL\n",
    "3. R\n",
    "4. Julia\n",
    "5. Java\n"
   ]
  },
  {
   "cell_type": "markdown",
   "id": "52db6476-611b-43c6-ace3-467921c1f96a",
   "metadata": {},
   "source": [
    "Exercise 5 - Create a markdown cell to list data science libraries\n",
    "\n",
    "Some of the commonly used libraries used by Data Scientists include:\n",
    "1. Numpy\n",
    "2. Pandas\n",
    "3. Matplotlib\n",
    "4. Seaborn\n",
    "5. SciPy"
   ]
  },
  {
   "cell_type": "markdown",
   "id": "559fdcf4-9f0b-4a4d-a784-0ac61ebc4ea1",
   "metadata": {},
   "source": [
    "Exercise 6 - Create a markdown cell with a table of Data Science tools\n",
    "\n",
    "| Data Science Tools |\n",
    "|--------------------|\n",
    "|Jupyter Notebook    |\n",
    "|RStudio             |\n",
    "|Apache Spark        |"
   ]
  },
  {
   "cell_type": "markdown",
   "id": "4076da51-53bf-41a9-b2c1-236ca939e650",
   "metadata": {},
   "source": [
    "Exercise 7 - Create a markdown cell introducing arithmetic expression examples with H3\n",
    "\n",
    "### Below are a few examples of evaluating arithmetic expressions in Python ###"
   ]
  },
  {
   "cell_type": "markdown",
   "id": "cbac6cc8-4905-4fb8-a1ed-d9638ae4b9ff",
   "metadata": {},
   "source": [
    "Exercise 8 - Create a code cell to multiply and add numbers"
   ]
  },
  {
   "cell_type": "code",
   "execution_count": 131,
   "id": "73e33074-06b7-47ed-b48b-4fc3d12a80b0",
   "metadata": {},
   "outputs": [
    {
     "data": {
      "text/plain": [
       "17"
      ]
     },
     "execution_count": 131,
     "metadata": {},
     "output_type": "execute_result"
    }
   ],
   "source": [
    "#This is a simple arithmetic expression to multiply and add integers\n",
    "\n",
    "(3*4)+5\n"
   ]
  },
  {
   "cell_type": "markdown",
   "id": "8308386f-4637-4243-a035-f1dff64ffbc4",
   "metadata": {},
   "source": [
    "Exercise 9 - Create a code cell to convert minutes to hours"
   ]
  },
  {
   "cell_type": "code",
   "execution_count": 133,
   "id": "1f025d87-925c-48b3-bb56-87d2d122c92b",
   "metadata": {},
   "outputs": [
    {
     "data": {
      "text/plain": [
       "6.0"
      ]
     },
     "execution_count": 133,
     "metadata": {},
     "output_type": "execute_result"
    }
   ],
   "source": [
    "#This will convert 360 hors to minutes by dividing by 60\n",
    "\n",
    "360/60\n",
    "\n"
   ]
  },
  {
   "cell_type": "markdown",
   "id": "35a6f21f-7d83-4de2-be70-7311214170d9",
   "metadata": {},
   "source": [
    "Exercise 11 - Create a markdown cell to indicate the Author's name"
   ]
  },
  {
   "cell_type": "markdown",
   "id": "205e650e-10f1-42f0-9ad2-1d74a58814ec",
   "metadata": {},
   "source": [
    "## Author ##\n",
    "Adan M"
   ]
  },
  {
   "cell_type": "code",
   "execution_count": null,
   "id": "ae1d5681-2358-480d-b92e-5cce6bc1f050",
   "metadata": {},
   "outputs": [],
   "source": []
  }
 ],
 "metadata": {
  "kernelspec": {
   "display_name": "Python 3 (ipykernel)",
   "language": "python",
   "name": "python3"
  },
  "language_info": {
   "codemirror_mode": {
    "name": "ipython",
    "version": 3
   },
   "file_extension": ".py",
   "mimetype": "text/x-python",
   "name": "python",
   "nbconvert_exporter": "python",
   "pygments_lexer": "ipython3",
   "version": "3.11.7"
  }
 },
 "nbformat": 4,
 "nbformat_minor": 5
}
